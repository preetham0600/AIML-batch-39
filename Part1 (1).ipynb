{
  "nbformat": 4,
  "nbformat_minor": 0,
  "metadata": {
    "colab": {
      "provenance": []
    },
    "kernelspec": {
      "name": "python3",
      "display_name": "Python 3"
    },
    "language_info": {
      "name": "python"
    }
  },
  "cells": [
    {
      "cell_type": "code",
      "source": [
        "import numpy as np\n",
        "lst1=[1,2,3]\n",
        "array1= np.array(lst1)\n",
        "print(\"list = \",lst1)\n",
        "print(\"array = \",array1)\n",
        "lst2=[2,3,4,]\n",
        "array2= np.array(lst2)\n",
        "print(\"lst2 =\",lst2 )\n",
        "print(\"lst2 = \",array2)"
      ],
      "metadata": {
        "colab": {
          "base_uri": "https://localhost:8080/"
        },
        "id": "rNckMhFZays1",
        "outputId": "4f3e7a58-4fa6-487b-e0bd-7e640ae4e14e"
      },
      "execution_count": null,
      "outputs": [
        {
          "output_type": "stream",
          "name": "stdout",
          "text": [
            "list =  [1, 2, 3]\n",
            "array =  [1 2 3]\n",
            "lst2 = [2, 3, 4]\n",
            "lst2 =  [2 3 4]\n"
          ]
        }
      ]
    },
    {
      "cell_type": "code",
      "source": [
        "type(lst1)\n"
      ],
      "metadata": {
        "colab": {
          "base_uri": "https://localhost:8080/"
        },
        "id": "Yux5Z3pBdowx",
        "outputId": "21c4415b-593b-4f30-faa7-a5aac7b53194"
      },
      "execution_count": null,
      "outputs": [
        {
          "output_type": "execute_result",
          "data": {
            "text/plain": [
              "list"
            ]
          },
          "metadata": {},
          "execution_count": 3
        }
      ]
    },
    {
      "cell_type": "code",
      "source": [
        "type(array1)\n",
        "print(array1.ndim)"
      ],
      "metadata": {
        "colab": {
          "base_uri": "https://localhost:8080/"
        },
        "id": "DxuLSSvegegW",
        "outputId": "d5f7fcf0-dcb3-4ab1-84af-43dd637684f8"
      },
      "execution_count": null,
      "outputs": [
        {
          "output_type": "stream",
          "name": "stdout",
          "text": [
            "1\n"
          ]
        }
      ]
    },
    {
      "cell_type": "code",
      "source": [
        "import numpy as np\n",
        "array1=np.array([10,20,30])\n",
        "array2=np.array([2,2,2])\n",
        "print(\"array2 mutliplied by array1 =\", array1*array2)\n",
        "print(\"array2 divided by array1 =\", array2/array1)\n",
        "print(\"array2 raised to the power of array1 =\", array2**array1)"
      ],
      "metadata": {
        "colab": {
          "base_uri": "https://localhost:8080/"
        },
        "id": "r9cOThOVguAy",
        "outputId": "2bdee1ac-1dc4-4813-dcbe-9af89a58bfe6"
      },
      "execution_count": null,
      "outputs": [
        {
          "output_type": "stream",
          "name": "stdout",
          "text": [
            "array2 mutliplied by array1 = [20 40 60]\n",
            "array2 divided by array1 = [0.2        0.1        0.06666667]\n",
            "array2 raised to the power of array1 = [      1024    1048576 1073741824]\n"
          ]
        }
      ]
    },
    {
      "cell_type": "code",
      "source": [
        "import numpy as np\n",
        "array1=np.array([10,20,30])\n",
        "array2=np.array([2,2,2])\n",
        "print(\"array2 mutliplied by array1 =\", array1*array2)\n",
        "print(\"array2 divided by array1 =\", array2/array1)\n",
        "print(\"array2 raised to the power of array1 =\", array2**array1)\n",
        "print(\"array2 is added to the array1= \",array1+array2)"
      ],
      "metadata": {
        "colab": {
          "base_uri": "https://localhost:8080/"
        },
        "id": "01RCqCcyilh9",
        "outputId": "cd076e0d-1b5b-44be-8ce8-8bbf5afd20a9"
      },
      "execution_count": null,
      "outputs": [
        {
          "output_type": "stream",
          "name": "stdout",
          "text": [
            "array2 mutliplied by array1 = [20 40 60]\n",
            "array2 divided by array1 = [0.2        0.1        0.06666667]\n",
            "array2 raised to the power of array1 = [      1024    1048576 1073741824]\n",
            "array2 is added to the array1=  [12 22 32]\n"
          ]
        }
      ]
    },
    {
      "cell_type": "code",
      "source": [
        "import numpy as np\n",
        "import numpy as np\n",
        "array1=np.array([10,20,30])\n",
        "#sine function\n",
        "print(\"sine :\", np.log(array1))\n",
        "#log function\n",
        "print(\"Natural logrithm =\",np.log(array1))\n",
        "print(\"base-10 logrithm =\",np.log10(array1))\n",
        "print(\"base-2 logrithm =\",np.log2(array1))\n",
        "#expo\n",
        "print(\"exponential =\",np.exp(array1))"
      ],
      "metadata": {
        "colab": {
          "base_uri": "https://localhost:8080/"
        },
        "id": "nf0HT5dJl0LQ",
        "outputId": "01825d69-484c-45e2-f641-315977c2e3c1"
      },
      "execution_count": null,
      "outputs": [
        {
          "output_type": "stream",
          "name": "stdout",
          "text": [
            "sine : [2.30258509 2.99573227 3.40119738]\n",
            "Natural logrithm = [2.30258509 2.99573227 3.40119738]\n",
            "base-10 logrithm = [1.         1.30103    1.47712125]\n",
            "base-2 logrithm = [3.32192809 4.32192809 4.9068906 ]\n",
            "exponential = [2.20264658e+04 4.85165195e+08 1.06864746e+13]\n"
          ]
        }
      ]
    }
  ]
}