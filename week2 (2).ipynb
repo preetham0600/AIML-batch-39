{
  "nbformat": 4,
  "nbformat_minor": 0,
  "metadata": {
    "colab": {
      "provenance": []
    },
    "kernelspec": {
      "name": "python3",
      "display_name": "Python 3"
    },
    "language_info": {
      "name": "python"
    }
  },
  "cells": [
    {
      "cell_type": "code",
      "execution_count": 1,
      "metadata": {
        "colab": {
          "base_uri": "https://localhost:8080/"
        },
        "id": "DK8GYvw3xYbz",
        "outputId": "0045df6f-96c6-4b51-a101-a8433e491693"
      },
      "outputs": [
        {
          "output_type": "stream",
          "name": "stdout",
          "text": [
            "Shortest path: ['TR', 'TM', 'GOA', 'NAG', 'JH', 'KH', 'HWH', 'KOL']\n"
          ]
        }
      ],
      "source": [
        "from collections import deque\n",
        "\n",
        "graph = {\n",
        "    'TR': ['TM'],\n",
        "    'TM': ['TR', 'YS', 'GOA'],\n",
        "    'YS': ['TM', 'HYD'],\n",
        "    'GOA': ['TM', 'NAG'],\n",
        "    'HYD': ['YS', 'WR'],\n",
        "    'WR': ['HYD', 'BS'],\n",
        "    'BS': ['WR', 'BBS'],\n",
        "    'KH': ['BBS', 'HWH','JH'],\n",
        "    'HWH': ['KH','KOL'],\n",
        "    'NAG': ['GOA', 'JH'],\n",
        "    'JH': ['NAG', 'KH'],\n",
        "    'KH': ['JH', 'HWH', 'KOL'],\n",
        "    'HWH': ['KH','KOL'],\n",
        "    'BBS': ['KH', 'BS'],\n",
        "    'KOL': [],\n",
        "}\n",
        "\n",
        "def bfs(graph, start, destination):\n",
        "    queue = [start]\n",
        "    visited = set()\n",
        "    parent = {}\n",
        "\n",
        "    while queue:\n",
        "        node = queue.pop(0)\n",
        "        visited.add(node)\n",
        "\n",
        "        if node == destination:\n",
        "            break\n",
        "\n",
        "        for neighbor in graph[node]:\n",
        "            if neighbor not in visited:\n",
        "                queue.append(neighbor)\n",
        "                parent[neighbor] = node\n",
        "\n",
        "\n",
        "    path = [destination]\n",
        "    while path[-1] != start:\n",
        "        path.append(parent[path[-1]])\n",
        "    path.reverse()\n",
        "\n",
        "    return path\n",
        "\n",
        "start = \"TR\"\n",
        "destination = \"KOL\"\n",
        "shortest_path = bfs(graph, start, destination)\n",
        "print(\"Shortest path:\", shortest_path)"
      ]
    },
    {
      "cell_type": "code",
      "source": [
        "graph = {\n",
        "    'TR': ['TM'],\n",
        "    'TM': ['TR', 'YS', 'GOA'],\n",
        "    'YS': ['TM', 'HYD'],\n",
        "    'GOA': ['TM', 'NAG'],\n",
        "    'HYD': ['YS', 'WR'],\n",
        "    'WR': ['HYD', 'BS'],\n",
        "    'BS': ['WR', 'BBS'],\n",
        "    'KH': ['BBS', 'HWH', 'JH'],\n",
        "    'HWH': ['KH', 'KOL'],\n",
        "    'NAG': ['GOA', 'JH'],\n",
        "    'JH': ['NAG', 'KH'],\n",
        "    'KH': ['JH', 'HWH', 'KOL'],\n",
        "    'HWH': ['KH', 'KOL'],\n",
        "    'BBS': ['KH', 'BS'],\n",
        "    'KOL': [],\n",
        "}\n",
        "\n",
        "def dfs(graph, start, destination):\n",
        "    stack = [start]\n",
        "    visited = set()\n",
        "    parent = {}\n",
        "\n",
        "    while stack:\n",
        "        node = stack.pop()\n",
        "        visited.add(node)\n",
        "\n",
        "        if node == destination:\n",
        "            break\n",
        "\n",
        "        for neighbor in reversed(graph[node]):\n",
        "            if neighbor not in visited:\n",
        "                stack.append(neighbor)\n",
        "                parent[neighbor] = node\n",
        "\n",
        "    path = [destination]\n",
        "    while path[-1] != start:\n",
        "        path.append(parent[path[-1]])\n",
        "    path.reverse()\n",
        "\n",
        "    return path\n",
        "\n",
        "start = \"TR\"\n",
        "destination = \"KOL\"\n",
        "shortest_path = dfs(graph, start, destination)\n",
        "print(\"Shortest path:\", shortest_path)"
      ],
      "metadata": {
        "colab": {
          "base_uri": "https://localhost:8080/"
        },
        "id": "3lT16GzfxbK1",
        "outputId": "5921da7c-4410-40df-f44a-1ab9462cdaf1"
      },
      "execution_count": 2,
      "outputs": [
        {
          "output_type": "stream",
          "name": "stdout",
          "text": [
            "Shortest path: ['TR', 'TM', 'YS', 'HYD', 'WR', 'BS', 'BBS', 'KH', 'HWH', 'KOL']\n"
          ]
        }
      ]
    },
    {
      "cell_type": "code",
      "source": [
        "from collections import deque\n",
        "\n",
        "def bfs(graph, start):\n",
        "    visited = set()\n",
        "    queue = deque([start])\n",
        "\n",
        "    while queue:\n",
        "        vertex = queue.popleft()\n",
        "\n",
        "        if vertex not in visited:\n",
        "            print(vertex, end=' ')\n",
        "            visited.add(vertex)\n",
        "\n",
        "            queue.extend(neighbor for neighbor in graph[vertex] if neighbor not in visited)\n",
        "\n",
        "# Example graph represented as an adjacency list\n",
        "graph = {\n",
        "    1: [0,3],\n",
        "    0: [1,3],\n",
        "    2: [1,4,5,],\n",
        "    3: [0,1,4],\n",
        "    4: [3,2,5],\n",
        "    5: [2,4]\n",
        "}\n",
        "\n",
        "# Starting vertex\n",
        "start_vertex =1\n",
        "\n",
        "print(\"BFS Traversal:\")\n",
        "bfs(graph, start_vertex)"
      ],
      "metadata": {
        "colab": {
          "base_uri": "https://localhost:8080/"
        },
        "id": "LSBx2zNdxhv9",
        "outputId": "796974ae-9003-420d-8567-5812f574c50a"
      },
      "execution_count": 3,
      "outputs": [
        {
          "output_type": "stream",
          "name": "stdout",
          "text": [
            "BFS Traversal:\n",
            "1 0 3 4 2 5 "
          ]
        }
      ]
    },
    {
      "cell_type": "code",
      "source": [
        "def dfs(graph, start):\n",
        "    visited = set()\n",
        "    stack = [start]\n",
        "\n",
        "    while stack:\n",
        "        vertex = stack.pop()\n",
        "\n",
        "        if vertex not in visited:\n",
        "            print(vertex, end=' ')\n",
        "            visited.add(vertex)\n",
        "\n",
        "            stack.extend(neighbor for neighbor in graph[vertex] if neighbor not in visited)\n",
        "\n",
        "graph = {\n",
        "    1: [0, 3],\n",
        "    0: [1, 3],\n",
        "    2: [1, 4, 5],\n",
        "    3: [0, 1, 4],\n",
        "    4: [3, 2, 5],\n",
        "    5: [2, 4]\n",
        "}\n",
        "\n",
        "\n",
        "start_vertex = 1\n",
        "\n",
        "print(\"DFS Traversal:\")\n",
        "dfs(graph, start_vertex)\n"
      ],
      "metadata": {
        "colab": {
          "base_uri": "https://localhost:8080/"
        },
        "id": "P2YSBg_4xn0g",
        "outputId": "496d5674-587c-4466-c189-0f7f2e7a81cc"
      },
      "execution_count": 4,
      "outputs": [
        {
          "output_type": "stream",
          "name": "stdout",
          "text": [
            "DFS Traversal:\n",
            "1 3 4 5 2 0 "
          ]
        }
      ]
    },
    {
      "cell_type": "code",
      "source": [
        "def dfs(graph, start):\n",
        "    visited = set()\n",
        "    stack = [start]\n",
        "\n",
        "    while stack:\n",
        "        vertex = stack.pop()\n",
        "\n",
        "        if vertex not in visited:\n",
        "            print(vertex, end=' ')\n",
        "            visited.add(vertex)\n",
        "\n",
        "            stack.extend(neighbor for neighbor in graph[vertex] if neighbor not in visited)\n",
        "\n",
        "graph = {\n",
        "    'B': ['A'],\n",
        "    'A': ['B', 'S'],\n",
        "    'S': ['A', 'G','C'],\n",
        "    'G': ['S','F','H'],\n",
        "    'H': ['G','E'],\n",
        "    'E': ['C','H'],\n",
        "    'C': ['S','F','E','D'],\n",
        "    'D': ['C'],\n",
        "    'F': ['G','C'],\n",
        "}\n",
        "\n",
        "\n",
        "\n",
        "start_vertex ='B'\n",
        "\n",
        "print(\"DFS Traversal:\")\n",
        "dfs(graph, start_vertex)\n",
        "\n"
      ],
      "metadata": {
        "colab": {
          "base_uri": "https://localhost:8080/"
        },
        "id": "zKD4NWlwxpgr",
        "outputId": "2fc2fb51-280e-4f24-d40f-46fba4e201d8"
      },
      "execution_count": 5,
      "outputs": [
        {
          "output_type": "stream",
          "name": "stdout",
          "text": [
            "DFS Traversal:\n",
            "B A S C D E H G F "
          ]
        }
      ]
    },
    {
      "cell_type": "code",
      "source": [
        "import numpy as np\n",
        "from heapq import heappop, heappush\n",
        "\n",
        "def manhattan_distance(state, goal):\n",
        "    distance = 0\n",
        "    for i in range(3):\n",
        "        for j in range(3):\n",
        "            if state[i, j] != goal[i, j]:\n",
        "                distance += abs(i - goal[i, j] // 3) + abs(j - goal[i, j] % 3)\n",
        "    return distance\n",
        "\n",
        "def a_star(initial_state, goal_state):\n",
        "    moves = [(-1, 0), (1, 0), (0, -1), (0, 1)]\n",
        "    priority_queue = [(manhattan_distance(initial_state, goal_state), 0, tuple(map(tuple, initial_state)))]\n",
        "    visited_states = set()\n",
        "\n",
        "    while priority_queue:\n",
        "        _, cost, current_state = heappop(priority_queue)\n",
        "\n",
        "        if np.array_equal(np.array(current_state), goal_state):\n",
        "            return cost\n",
        "\n",
        "        visited_states.add(current_state)\n",
        "\n",
        "        empty_tile = np.where(np.array(current_state) == 0)\n",
        "        empty_tile = (empty_tile[0][0], empty_tile[1][0])\n",
        "\n",
        "        for move in moves:\n",
        "            new_position = (empty_tile[0] + move[0], empty_tile[1] + move[1])\n",
        "\n",
        "            if 0 <= new_position[0] < 3 and 0 <= new_position[1] < 3:\n",
        "                new_state = [list(row) for row in current_state]\n",
        "                new_state[empty_tile[0]][empty_tile[1]], new_state[new_position[0]][new_position[1]] = \\\n",
        "                    new_state[new_position[0]][new_position[1]], new_state[empty_tile[0]][empty_tile[1]]\n",
        "\n",
        "                if tuple(map(tuple, new_state)) not in visited_states:\n",
        "                    new_cost = cost + 1\n",
        "                    heuristic = new_cost + manhattan_distance(np.array(new_state), goal_state)\n",
        "                    heappush(priority_queue, (heuristic, new_cost, tuple(map(tuple, new_state))))\n",
        "\n",
        "    return -1\n",
        "\n",
        "initial_state = np.array([[2, 8, 3], [1, 6, 4], [7, 0, 5]])\n",
        "goal_state = np.array([[1, 2, 3], [8, 0, 4], [7, 6, 5]])\n",
        "\n",
        "result = a_star(initial_state, goal_state)\n",
        "\n",
        "if result != -1:\n",
        "    print(f\"Minimum cost to reach the goal state: {result}\")\n",
        "    print(\"\\nStep-by-step arrays:\")\n",
        "    current_state = initial_state.copy()\n",
        "    print(current_state)\n",
        "\n",
        "    empty_tile = np.where(current_state == 0)\n",
        "    empty_tile = (empty_tile[0][0], empty_tile[1][0])\n",
        "\n",
        "    moves = [(-1, 0), (1, 0), (0, -1), (0, 1)]\n",
        "\n",
        "    for move in moves:\n",
        "        new_position = (empty_tile[0] + move[0], empty_tile[1] + move[1])\n",
        "\n",
        "        if 0 <= new_position[0] < 3 and 0 <= new_position[1] < 3:\n",
        "            new_state = [list(row) for row in current_state]\n",
        "            new_state[empty_tile[0]][empty_tile[1]], new_state[new_position[0]][new_position[1]] = \\\n",
        "                new_state[new_position[0]][new_position[1]], new_state[empty_tile[0]][empty_tile[1]]\n",
        "\n",
        "            print(\"\\nMove:\")\n",
        "            print(np.array(new_state))\n",
        "            current_state = np.array(new_state)\n",
        "            empty_tile = new_position\n",
        "else:\n",
        "    print(\"No solution found.\")\n"
      ],
      "metadata": {
        "colab": {
          "base_uri": "https://localhost:8080/"
        },
        "id": "CB8mr8ibxwXh",
        "outputId": "582d6d74-51b7-43d3-e52d-c7e7c08c27fe"
      },
      "execution_count": 6,
      "outputs": [
        {
          "output_type": "stream",
          "name": "stdout",
          "text": [
            "Minimum cost to reach the goal state: 5\n",
            "\n",
            "Step-by-step arrays:\n",
            "[[2 8 3]\n",
            " [1 6 4]\n",
            " [7 0 5]]\n",
            "\n",
            "Move:\n",
            "[[2 8 3]\n",
            " [1 0 4]\n",
            " [7 6 5]]\n",
            "\n",
            "Move:\n",
            "[[2 8 3]\n",
            " [1 6 4]\n",
            " [7 0 5]]\n",
            "\n",
            "Move:\n",
            "[[2 8 3]\n",
            " [1 6 4]\n",
            " [0 7 5]]\n",
            "\n",
            "Move:\n",
            "[[2 8 3]\n",
            " [1 6 4]\n",
            " [7 0 5]]\n"
          ]
        }
      ]
    }
  ]
}